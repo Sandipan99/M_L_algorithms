{
 "cells": [
  {
   "cell_type": "code",
   "execution_count": 38,
   "metadata": {},
   "outputs": [],
   "source": [
    "import numpy as np\n",
    "import math"
   ]
  },
  {
   "cell_type": "markdown",
   "metadata": {},
   "source": [
    "# Metropolis-Hastings sampling"
   ]
  },
  {
   "cell_type": "code",
   "execution_count": 1,
   "metadata": {},
   "outputs": [],
   "source": [
    "# Generate data points ... we will use beta distribution to create datapoints and then estimate those parameters using\n",
    "# Metropolis-Hastings sampling"
   ]
  },
  {
   "cell_type": "code",
   "execution_count": 50,
   "metadata": {},
   "outputs": [],
   "source": [
    "transition_model = lambda x: np.random.normal(x,[0.05,5],(2,))"
   ]
  },
  {
   "cell_type": "code",
   "execution_count": 51,
   "metadata": {},
   "outputs": [
    {
     "data": {
      "text/plain": [
       "array([ 3.9653823 , 12.56749924])"
      ]
     },
     "execution_count": 51,
     "metadata": {},
     "output_type": "execute_result"
    }
   ],
   "source": [
    "transition_model((4,10))"
   ]
  },
  {
   "cell_type": "code",
   "execution_count": 52,
   "metadata": {},
   "outputs": [],
   "source": [
    "data_points = np.random.beta(5,30,1000)"
   ]
  },
  {
   "cell_type": "code",
   "execution_count": 53,
   "metadata": {},
   "outputs": [
    {
     "data": {
      "text/plain": [
       "1000"
      ]
     },
     "execution_count": 53,
     "metadata": {},
     "output_type": "execute_result"
    }
   ],
   "source": [
    "len(data_points)"
   ]
  },
  {
   "cell_type": "code",
   "execution_count": 54,
   "metadata": {},
   "outputs": [
    {
     "data": {
      "text/plain": [
       "0.22685764695284397"
      ]
     },
     "execution_count": 54,
     "metadata": {},
     "output_type": "execute_result"
    }
   ],
   "source": [
    "data_points[0]"
   ]
  },
  {
   "cell_type": "code",
   "execution_count": 55,
   "metadata": {},
   "outputs": [],
   "source": [
    "# since a and b are positive we ensure that in the prior\n",
    "def prior(w):\n",
    "    if w[0]<=0 or w[1]<=0:\n",
    "        return 0\n",
    "    return 1"
   ]
  },
  {
   "cell_type": "code",
   "execution_count": 66,
   "metadata": {},
   "outputs": [],
   "source": [
    "def transition_model(x):\n",
    "    return np.random.normal(x,[0.5,5],(2,))"
   ]
  },
  {
   "cell_type": "code",
   "execution_count": 57,
   "metadata": {},
   "outputs": [],
   "source": [
    "def likelihood(datapoints, a, b):\n",
    "    l = lambda x:a*math.log(b)+(a-1)*math.log(x)-b*x-math.log(math.gamma(a))+math.log(prior((a,b)))\n",
    "    val = [l(x) for x in datapoints]\n",
    "    return sum(val)"
   ]
  },
  {
   "cell_type": "code",
   "execution_count": 76,
   "metadata": {},
   "outputs": [],
   "source": [
    "def metropolisHastings(datapoints, iterations=1000):\n",
    "    curr_parameter = (5,20)\n",
    "    accepted_samples = []\n",
    "    for _ in range(iterations):\n",
    "        curr_likelihood = likelihood(datapoints, curr_parameter[0], curr_parameter[1])\n",
    "        new_parameter = transition_model(curr_parameter)\n",
    "        print(new_parameter)\n",
    "        new_likelihood = likelihood(data_points, new_parameter[0], new_parameter[1])\n",
    "        if new_likelihood>curr_likelihood:\n",
    "            accepted_samples.append(new_parameter)\n",
    "            curr_parameter = new_parameter\n",
    "        else:\n",
    "            x = np.random.normal(0,1)\n",
    "            if x<math.exp(new_likelihood-curr_likelihood):\n",
    "                accepted_samples.append(new_parameter)\n",
    "                curr_parameter = new_parameter\n",
    "    return accepted_samples            "
   ]
  },
  {
   "cell_type": "code",
   "execution_count": 78,
   "metadata": {},
   "outputs": [
    {
     "data": {
      "text/plain": [
       "[array([ 6.55865537, 41.09166646]),\n",
       " array([ 6.03102656, 41.32720103]),\n",
       " array([ 5.06422276, 41.62022431]),\n",
       " array([ 4.52953836, 40.32903944]),\n",
       " array([ 3.73253777, 33.7567821 ]),\n",
       " array([ 3.91985081, 28.25886696]),\n",
       " array([ 4.56816843, 29.92500723]),\n",
       " array([ 4.70217036, 30.62106345]),\n",
       " array([ 4.59463376, 29.5337688 ]),\n",
       " array([ 5.27528581, 25.81391997])]"
      ]
     },
     "execution_count": 78,
     "metadata": {},
     "output_type": "execute_result"
    }
   ],
   "source": [
    "accepted[-10:]"
   ]
  },
  {
   "cell_type": "code",
   "execution_count": null,
   "metadata": {},
   "outputs": [],
   "source": []
  }
 ],
 "metadata": {
  "kernelspec": {
   "display_name": "Python 3",
   "language": "python",
   "name": "python3"
  },
  "language_info": {
   "codemirror_mode": {
    "name": "ipython",
    "version": 3
   },
   "file_extension": ".py",
   "mimetype": "text/x-python",
   "name": "python",
   "nbconvert_exporter": "python",
   "pygments_lexer": "ipython3",
   "version": "3.7.4"
  }
 },
 "nbformat": 4,
 "nbformat_minor": 2
}
