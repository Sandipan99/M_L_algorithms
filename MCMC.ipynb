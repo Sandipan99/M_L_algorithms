{
 "cells": [
  {
   "cell_type": "code",
   "execution_count": 38,
   "metadata": {},
   "outputs": [],
   "source": [
    "import numpy as np\n",
    "import math"
   ]
  },
  {
   "cell_type": "markdown",
   "metadata": {},
   "source": [
    "# Metropolis-Hastings sampling"
   ]
  },
  {
   "cell_type": "code",
   "execution_count": 1,
   "metadata": {},
   "outputs": [],
   "source": [
    "# Generate data points ... we will use beta distribution to create datapoints and then estimate those parameters using\n",
    "# Metropolis-Hastings sampling"
   ]
  },
  {
   "cell_type": "code",
   "execution_count": 50,
   "metadata": {},
   "outputs": [],
   "source": [
    "transition_model = lambda x: np.random.normal(x,[0.05,5],(2,))"
   ]
  },
  {
   "cell_type": "code",
   "execution_count": 51,
   "metadata": {},
   "outputs": [
    {
     "data": {
      "text/plain": [
       "array([ 3.9653823 , 12.56749924])"
      ]
     },
     "execution_count": 51,
     "metadata": {},
     "output_type": "execute_result"
    }
   ],
   "source": [
    "transition_model((4,10))"
   ]
  },
  {
   "cell_type": "code",
   "execution_count": 52,
   "metadata": {},
   "outputs": [],
   "source": [
    "data_points = np.random.beta(5,30,1000)"
   ]
  },
  {
   "cell_type": "code",
   "execution_count": 53,
   "metadata": {},
   "outputs": [
    {
     "data": {
      "text/plain": [
       "1000"
      ]
     },
     "execution_count": 53,
     "metadata": {},
     "output_type": "execute_result"
    }
   ],
   "source": [
    "len(data_points)"
   ]
  },
  {
   "cell_type": "code",
   "execution_count": 54,
   "metadata": {},
   "outputs": [
    {
     "data": {
      "text/plain": [
       "0.22685764695284397"
      ]
     },
     "execution_count": 54,
     "metadata": {},
     "output_type": "execute_result"
    }
   ],
   "source": [
    "data_points[0]"
   ]
  },
  {
   "cell_type": "code",
   "execution_count": 55,
   "metadata": {},
   "outputs": [],
   "source": [
    "# since a and b are positive we ensure that in the prior\n",
    "def prior(w):\n",
    "    if w[0]<=0 or w[1]<=0:\n",
    "        return 0\n",
    "    return 1"
   ]
  },
  {
   "cell_type": "code",
   "execution_count": 66,
   "metadata": {},
   "outputs": [],
   "source": [
    "def transition_model(x):\n",
    "    return np.random.normal(x,[0.5,5],(2,))"
   ]
  },
  {
   "cell_type": "code",
   "execution_count": 57,
   "metadata": {},
   "outputs": [],
   "source": [
    "def likelihood(datapoints, a, b):\n",
    "    l = lambda x:a*math.log(b)+(a-1)*math.log(x)-b*x-math.log(math.gamma(a))+math.log(prior((a,b)))\n",
    "    val = [l(x) for x in datapoints]\n",
    "    return sum(val)"
   ]
  },
  {
   "cell_type": "code",
   "execution_count": 76,
   "metadata": {},
   "outputs": [],
   "source": [
    "def metropolisHastings(datapoints, iterations=1000):\n",
    "    curr_parameter = (5,20)\n",
    "    accepted_samples = []\n",
    "    for _ in range(iterations):\n",
    "        curr_likelihood = likelihood(datapoints, curr_parameter[0], curr_parameter[1])\n",
    "        new_parameter = transition_model(curr_parameter)\n",
    "        print(new_parameter)\n",
    "        new_likelihood = likelihood(data_points, new_parameter[0], new_parameter[1])\n",
    "        if new_likelihood>curr_likelihood:\n",
    "            accepted_samples.append(new_parameter)\n",
    "            curr_parameter = new_parameter\n",
    "        else:\n",
    "            x = np.random.normal(0,1)\n",
    "            if x<math.exp(new_likelihood-curr_likelihood):\n",
    "                accepted_samples.append(new_parameter)\n",
    "                curr_parameter = new_parameter\n",
    "    return accepted_samples            "
   ]
  },
  {
   "cell_type": "code",
   "execution_count": null,
   "metadata": {},
   "outputs": [
    {
     "name": "stdout",
     "output_type": "stream",
     "text": [
      "[ 5.63700826 18.66930578]\n",
      "[ 4.59314492 26.14351929]\n",
      "[ 4.40899351 28.03152444]\n",
      "[ 4.1122589  25.45235171]\n",
      "[ 3.58564855 29.98516488]\n",
      "[ 4.58984263 22.32743672]\n",
      "[ 3.51397075 28.0999218 ]\n",
      "[ 4.00721533 19.77721364]\n",
      "[ 3.40544788 17.95246861]\n",
      "[ 3.78416296 19.58009313]\n",
      "[ 3.62069799 11.66975173]\n",
      "[2.87924756 3.1538419 ]\n",
      "[ 4.19468089 13.29996913]\n",
      "[ 4.92056796 13.4268201 ]\n",
      "[4.08214744 6.15813823]\n",
      "[4.20734073 9.15351197]\n",
      "[3.64399914 5.44828087]\n",
      "[3.40235628 5.91856843]\n",
      "[3.96995024 9.62371452]\n",
      "[3.90640259 7.02708735]\n",
      "[4.39682213 9.60350401]\n",
      "[ 3.11763387 16.27708621]\n",
      "[ 2.8467829  16.16633817]\n",
      "[ 3.26218092 20.43847279]\n",
      "[ 3.48254745 19.66488596]\n",
      "[ 3.34492281 19.89893657]\n",
      "[ 3.17129267 20.24366323]\n",
      "[ 3.56416064 15.94693039]\n",
      "[ 3.47930836 26.61331356]\n",
      "[ 3.36135528 25.95795594]\n",
      "[ 3.5150282  35.27477551]\n",
      "[ 3.13131322 37.20401182]\n",
      "[ 3.85793976 41.70942736]\n",
      "[ 3.72232912 32.59622602]\n",
      "[ 3.73397542 34.77056991]\n",
      "[ 3.02481464 43.64761591]\n",
      "[ 3.76975447 37.94848573]\n",
      "[ 4.0847689  25.15439536]\n",
      "[ 4.52559926 30.06264432]\n",
      "[ 4.53992067 30.03011674]\n",
      "[ 5.21230341 29.9051865 ]\n",
      "[ 5.52377809 29.96797873]\n",
      "[ 5.94696443 28.23823036]\n",
      "[ 5.76023531 33.63999365]\n",
      "[ 6.19242087 37.45056717]\n",
      "[ 6.58427818 26.15071406]\n",
      "[ 7.22946218 25.40538143]\n",
      "[ 6.64073693 27.37984246]\n",
      "[ 6.37906165 20.0330117 ]\n",
      "[ 6.13134378 19.58685866]\n",
      "[ 6.24085718 22.92880681]\n",
      "[ 6.21632954 27.77639222]\n",
      "[ 6.43318408 30.33672539]\n",
      "[ 6.25159962 24.97114639]\n",
      "[ 5.99902659 30.65590179]\n",
      "[ 5.46288964 32.95511383]\n",
      "[ 5.07767241 32.54023146]\n",
      "[ 5.04503472 23.09667046]\n",
      "[ 4.55721395 34.64005433]\n",
      "[ 4.14148362 45.03342458]\n",
      "[ 5.00522058 31.16871802]\n",
      "[ 4.5162497  40.34954429]\n",
      "[ 4.93958984 28.06413177]\n",
      "[ 5.03572433 28.22118881]\n",
      "[ 3.99082523 29.86275486]\n",
      "[ 3.99179781 26.96548415]\n",
      "[ 3.31211302 29.70085033]\n",
      "[ 3.50473434 20.93892755]\n",
      "[ 3.89244435 26.36081288]\n",
      "[ 3.96283836 28.07192174]\n",
      "[ 4.72617439 35.70103924]\n",
      "[ 4.98807571 32.45158192]\n",
      "[ 4.80229274 28.08821788]\n",
      "[ 5.69819055 25.30848806]\n",
      "[ 5.04771889 20.5486963 ]\n",
      "[ 6.03912151 30.22131905]\n",
      "[ 6.13758768 25.22303946]\n",
      "[ 6.40889635 21.485834  ]\n",
      "[ 5.78676846 25.96462285]\n",
      "[ 5.53490243 28.52473771]\n",
      "[ 5.75346571 39.30665028]\n",
      "[ 6.17334214 29.81976915]\n",
      "[ 6.55701173 49.76082584]\n",
      "[ 6.13130839 48.14205756]\n",
      "[ 7.38573257 53.01593264]\n",
      "[ 7.27622801 43.71101349]\n",
      "[ 8.01201823 60.05146803]\n",
      "[ 8.0397521  51.80100173]\n",
      "[ 8.39739959 59.3982172 ]\n",
      "[ 8.46957197 58.34788863]\n",
      "[ 8.54401661 48.21337564]\n",
      "[ 8.62778697 46.13354597]\n",
      "[ 8.6019827  50.57203441]\n",
      "[ 8.1238866  49.75692003]\n",
      "[ 7.72943077 44.27553225]\n"
     ]
    }
   ],
   "source": [
    "accepted = metropolisHastings(data_points)"
   ]
  },
  {
   "cell_type": "code",
   "execution_count": 69,
   "metadata": {},
   "outputs": [
    {
     "data": {
      "text/plain": [
       "[array([ 6.92754028, 28.73846895]),\n",
       " array([ 7.44965382, 35.48596891]),\n",
       " array([ 6.97072131, 40.37302157]),\n",
       " array([ 6.72961646, 41.25511454]),\n",
       " array([ 6.87545141, 42.61239254]),\n",
       " array([ 6.22712424, 40.69621347]),\n",
       " array([ 6.0551652 , 42.48770506]),\n",
       " array([ 6.6313063 , 48.21566878]),\n",
       " array([ 7.09728912, 47.98466057]),\n",
       " array([ 6.87038563, 46.28444622])]"
      ]
     },
     "execution_count": 69,
     "metadata": {},
     "output_type": "execute_result"
    }
   ],
   "source": [
    "accepted[-10:]"
   ]
  },
  {
   "cell_type": "code",
   "execution_count": null,
   "metadata": {},
   "outputs": [],
   "source": []
  }
 ],
 "metadata": {
  "kernelspec": {
   "display_name": "Python 3",
   "language": "python",
   "name": "python3"
  },
  "language_info": {
   "codemirror_mode": {
    "name": "ipython",
    "version": 3
   },
   "file_extension": ".py",
   "mimetype": "text/x-python",
   "name": "python",
   "nbconvert_exporter": "python",
   "pygments_lexer": "ipython3",
   "version": "3.7.4"
  }
 },
 "nbformat": 4,
 "nbformat_minor": 2
}
